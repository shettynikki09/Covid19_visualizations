{
 "cells": [
  {
   "cell_type": "markdown",
   "id": "7058b369",
   "metadata": {},
   "source": [
    "# Option 2 -COVID-19 Data Collection and Analysis by Visualization - Final Course Project"
   ]
  },
  {
   "cell_type": "markdown",
   "id": "9e87446a",
   "metadata": {},
   "source": [
    "# Abstract"
   ]
  },
  {
   "cell_type": "markdown",
   "id": "1ef3510f",
   "metadata": {},
   "source": [
    "COVID-19 has changed how the world functions. In the last 2 years there has been a massive shift in the way businesses are run, it has had a massive impact on our mode of learning, how people work and a lot of other factors. This only marks for a starting of a shift in the way we would go about doing things in the coming future. There is a lot of impact of the COVID-19 statistics, major decisions are taken based on this data.COVID-19 has led to drastic loss of human life wordwide and has even imposed unimaginable challegnges on public health.In this project I visualize the John Hopkins COVID-19 dataset, which gets updated daily. Using the dataset I will try to answer the research questions mentioned about the trends and the statistics across the globe.There is a huge amount of data being collected as a part of the data analysis in the business world today, there is a need to use good visualization tools to paint a  picture of the data so that it will get easier to interpret the data.A good visulization can get us answers to numerous questions, analyze trends and even predict what might happen in the coming future.There are variety of tools in python that can be used for the visualizations like matplotlib,seaborn,plotly,folium etc.  I have used Matplotlib and seaborn are used for the visualization in this project."
   ]
  },
  {
   "cell_type": "markdown",
   "id": "20604e7d",
   "metadata": {},
   "source": [
    "# Introduction"
   ]
  },
  {
   "cell_type": "markdown",
   "id": "221b960a",
   "metadata": {},
   "source": [
    "COVID-19 was much more than just a health crisis it has had its effect on human,economic and social aspects of life too.It was declared as the pandemic by WHO. Many countries face the effect of this it resulted in economic fallout and caused significant hardship. Millions of people all over the globe lost their jobs.It changed how people worked as well. Based on the US Bureau of Labor Statistics[4] 1 in 4 people teleworked due to the pandemic.The concept of teleworking has gained popularity due to the COVID-19 pandemic. Due to such an immense impact on various fields it is extremely important to explore the COVID-19 related data at hand to uncover trends and find out the staristics in hopes that  we can avoid the extreme consequences. There are many verified sources where they provide the COVID-19 related data.By visualizing these data we will gain all the insights required."
   ]
  },
  {
   "cell_type": "markdown",
   "id": "96293f4a",
   "metadata": {},
   "source": [
    "Data visualization can help deliver data in a very efficient way. If you just look at the data present in the raw form as .csv/.xlsx it may not make any sense, but once visualized using the appropriate tools they can provide insights which we never thought would exist otherwise.Visualization transforms the raw data and delivers the data so that the conclusions can be reached. It conveys the matter in a way that is universal,fast and effective.Python offers lot of different features that enables users to make highly customized,elegant  and interactive plots. In this project I will be using Matplotlib and seaborn for the visualizations."
   ]
  },
  {
   "cell_type": "markdown",
   "id": "355213a2",
   "metadata": {},
   "source": [
    "As they say as \"A picture speaks a thousand words\",this is where Matplotlib comes in the focus, it is a visualization library in python that makes use of 2D arrays. It is a python library and makes use of NumPy library.It was initially devised as a open source alternative for MATLAB.The pyplot on the matplotlib is the most used feature.Matplotlib has several different interfaces that can be used to create visualizations.There is a concept of object heirarchy in matplotlib.There is a tree-like structure  of matplotlib objects under each plot.It has a figure object which is the outermost container which can have multiple Axes objects.Below is the reference image from [7] of the heirarchical nature of matplotlib."
   ]
  },
  {
   "cell_type": "code",
   "execution_count": 20,
   "id": "4ddf17ad",
   "metadata": {},
   "outputs": [
    {
     "data": {
      "text/html": [
       "<img src=\"https://files.realpython.com/media/fig_map.bc8c7cabd823.png\" width=\"400\" height=\"400\"/>"
      ],
      "text/plain": [
       "<IPython.core.display.Image object>"
      ]
     },
     "execution_count": 20,
     "metadata": {},
     "output_type": "execute_result"
    }
   ],
   "source": [
    "from IPython.display import Image\n",
    "Image(url= \"https://files.realpython.com/media/fig_map.bc8c7cabd823.png\", width=400, height=400)"
   ]
  },
  {
   "cell_type": "markdown",
   "id": "af28c598",
   "metadata": {},
   "source": [
    "There are numerous shortcomings of matplotlib, to name a few Matplotlibs API is relatively low, it does not work well with pandas dataframe etc. To solve these problems we have Seaborn. It is a layer on top of Matplotlib. It provides extensive options of plot styles, colour defaults and integrates well with the pandas dataframes.In this project I have used both matplotlib and seaborn for the visualizations."
   ]
  },
  {
   "cell_type": "markdown",
   "id": "28891485",
   "metadata": {},
   "source": [
    "# Hypothesis"
   ]
  },
  {
   "cell_type": "markdown",
   "id": "0a397c89",
   "metadata": {},
   "source": [
    "As we have seen the COVID19 rules being relaxed now adn the number of cases reducing .\n",
    "The following hypothesis is being proposed\n",
    "1. Based on Reference [1] During the last 2 years COVID-19 related deaths has peaked in India during the months of June - July. The same trend will continue in 2022 as well.\n",
    "2. Based on previous trends Europe will have the highest confirmed COVID cases for the day 04/20/2022.\n",
    "3. South American and Asia Countries will have the highest COVID related deaths for the day 04/20/2022.\n",
    "4. Matplotlib and seaborn provide a simple/straightforward way to visualize the data in python."
   ]
  },
  {
   "cell_type": "markdown",
   "id": "958d11c8",
   "metadata": {},
   "source": [
    "# Research Questions"
   ]
  },
  {
   "cell_type": "markdown",
   "id": "ba9fb8f0",
   "metadata": {},
   "source": [
    "1. What is the trend of the COVID-19 related deaths in India since 2020 ?\n",
    "2. What are the Top 10  with the highest confirmed COVID cases for today(04/20/2022)?\n",
    "3. What are the Top 10 with the highest no of deaths due to COVID for today(04/20/2022) ?\n",
    "4. What is the growth trend for the top 5 vaccinated states in the USA for 2022? And do the states with the highest vaccinations have lower deaths ?\n",
    "5. Top 20 countries with the highest number of COVID-19 cases from 2020 ?"
   ]
  },
  {
   "cell_type": "markdown",
   "id": "d29a323f",
   "metadata": {},
   "source": [
    "5 research questions are formulated."
   ]
  },
  {
   "cell_type": "markdown",
   "id": "dd622772",
   "metadata": {},
   "source": [
    "# Data Collection"
   ]
  },
  {
   "cell_type": "code",
   "execution_count": 34,
   "id": "41bd9e5a",
   "metadata": {},
   "outputs": [],
   "source": [
    "import pandas as pd\n",
    "from datetime import date\n",
    "from datetime import timedelta\n",
    "import datetime as dt\n",
    "import numpy as np\n",
    "def get_daily_data(day_today):\n",
    "    #Attached file - 4-20-2022_global.csv\n",
    "    daily_url = 'https://raw.githubusercontent.com/CSSEGISandData/COVID-19/master/csse_covid_19_data/csse_covid_19_daily_reports/'+day_today +'.csv'\n",
    "    return daily_url\n",
    "def read_csv(url):\n",
    "    data_df = pd.read_csv(url)\n",
    "    return data_df\n",
    "def covert_date_format(date):\n",
    "    return date.strftime(\"%m-%d-%Y\")\n",
    "    \n",
    "#Check if today's data is available if not get yesterday's data\n",
    "today = date.today()\n",
    "try:\n",
    "    day_today = covert_date_format(today)\n",
    "    daily_url = get_daily_data(day_today)\n",
    "    daily_df = read_csv(daily_url)\n",
    "except:\n",
    "    yesterday = today - timedelta(days=1)\n",
    "    day_today = covert_date_format(yesterday)\n",
    "    daily_url = get_daily_data(day_today)\n",
    "    daily_df = read_csv(daily_url)  \n",
    "#Get all the data from the GitHub csv file and store it in a pandas dataframe.\n",
    "#Attached file - people_vaccinated_us_timeline.csv\n",
    "vaccine_usa_url = 'https://raw.githubusercontent.com/govex/COVID-19/master/data_tables/vaccine_data/us_data/time_series/people_vaccinated_us_timeline.csv'\n",
    "vaccine_usa_df = read_csv(vaccine_usa_url)\n",
    "#Attached file - time_series_covid19_confirmed_global.csv\n",
    "confirmed_global_url = 'https://raw.githubusercontent.com/CSSEGISandData/COVID-19/master/csse_covid_19_data/csse_covid_19_time_series/time_series_covid19_confirmed_global.csv'\n",
    "confirmed_global_df =  read_csv(confirmed_global_url)\n",
    "#Attached file - 04-20-2022.csv\n",
    "deaths_usa_url = 'https://raw.githubusercontent.com/CSSEGISandData/COVID-19/master/csse_covid_19_data/csse_covid_19_daily_reports_us/'+day_today +'.csv'\n",
    "deaths_usa_df =  read_csv(deaths_usa_url)\n",
    "#Attached file - time_series_covid19_deaths_global.csv\n",
    "deaths_global_url = 'https://raw.githubusercontent.com/CSSEGISandData/COVID-19/master/csse_covid_19_data/csse_covid_19_time_series/time_series_covid19_deaths_global.csv'\n",
    "deaths_global_df =  read_csv(deaths_global_url)"
   ]
  },
  {
   "cell_type": "markdown",
   "id": "57eb815c",
   "metadata": {},
   "source": [
    "Get all the required .csv files from John Hopkins GitHub repository where the data is being updated on a daily basis.The date is dynamically sent, so as to get the latest data and then pandas is used to read the csv and store in a datframe."
   ]
  },
  {
   "cell_type": "markdown",
   "id": "7f1719b4",
   "metadata": {},
   "source": [
    "# Data Cleaning"
   ]
  },
  {
   "cell_type": "code",
   "execution_count": 22,
   "id": "d79261c2",
   "metadata": {},
   "outputs": [
    {
     "data": {
      "text/html": [
       "<div>\n",
       "<style scoped>\n",
       "    .dataframe tbody tr th:only-of-type {\n",
       "        vertical-align: middle;\n",
       "    }\n",
       "\n",
       "    .dataframe tbody tr th {\n",
       "        vertical-align: top;\n",
       "    }\n",
       "\n",
       "    .dataframe thead th {\n",
       "        text-align: right;\n",
       "    }\n",
       "</style>\n",
       "<table border=\"1\" class=\"dataframe\">\n",
       "  <thead>\n",
       "    <tr style=\"text-align: right;\">\n",
       "      <th></th>\n",
       "      <th>Country/Region</th>\n",
       "      <th>1/22/20</th>\n",
       "      <th>1/23/20</th>\n",
       "      <th>1/24/20</th>\n",
       "      <th>1/25/20</th>\n",
       "      <th>1/26/20</th>\n",
       "      <th>1/27/20</th>\n",
       "      <th>1/28/20</th>\n",
       "      <th>1/29/20</th>\n",
       "      <th>1/30/20</th>\n",
       "      <th>...</th>\n",
       "      <th>4/11/22</th>\n",
       "      <th>4/12/22</th>\n",
       "      <th>4/13/22</th>\n",
       "      <th>4/14/22</th>\n",
       "      <th>4/15/22</th>\n",
       "      <th>4/16/22</th>\n",
       "      <th>4/17/22</th>\n",
       "      <th>4/18/22</th>\n",
       "      <th>4/19/22</th>\n",
       "      <th>4/20/22</th>\n",
       "    </tr>\n",
       "  </thead>\n",
       "  <tbody>\n",
       "    <tr>\n",
       "      <th>0</th>\n",
       "      <td>Afghanistan</td>\n",
       "      <td>0</td>\n",
       "      <td>0</td>\n",
       "      <td>0</td>\n",
       "      <td>0</td>\n",
       "      <td>0</td>\n",
       "      <td>0</td>\n",
       "      <td>0</td>\n",
       "      <td>0</td>\n",
       "      <td>0</td>\n",
       "      <td>...</td>\n",
       "      <td>7675</td>\n",
       "      <td>7676</td>\n",
       "      <td>7676</td>\n",
       "      <td>7676</td>\n",
       "      <td>7676</td>\n",
       "      <td>7676</td>\n",
       "      <td>7678</td>\n",
       "      <td>7679</td>\n",
       "      <td>7680</td>\n",
       "      <td>7680</td>\n",
       "    </tr>\n",
       "    <tr>\n",
       "      <th>1</th>\n",
       "      <td>Albania</td>\n",
       "      <td>0</td>\n",
       "      <td>0</td>\n",
       "      <td>0</td>\n",
       "      <td>0</td>\n",
       "      <td>0</td>\n",
       "      <td>0</td>\n",
       "      <td>0</td>\n",
       "      <td>0</td>\n",
       "      <td>0</td>\n",
       "      <td>...</td>\n",
       "      <td>3493</td>\n",
       "      <td>3494</td>\n",
       "      <td>3494</td>\n",
       "      <td>3495</td>\n",
       "      <td>3495</td>\n",
       "      <td>3496</td>\n",
       "      <td>3496</td>\n",
       "      <td>3496</td>\n",
       "      <td>3496</td>\n",
       "      <td>3496</td>\n",
       "    </tr>\n",
       "    <tr>\n",
       "      <th>2</th>\n",
       "      <td>Algeria</td>\n",
       "      <td>0</td>\n",
       "      <td>0</td>\n",
       "      <td>0</td>\n",
       "      <td>0</td>\n",
       "      <td>0</td>\n",
       "      <td>0</td>\n",
       "      <td>0</td>\n",
       "      <td>0</td>\n",
       "      <td>0</td>\n",
       "      <td>...</td>\n",
       "      <td>6874</td>\n",
       "      <td>6874</td>\n",
       "      <td>6874</td>\n",
       "      <td>6874</td>\n",
       "      <td>6874</td>\n",
       "      <td>6874</td>\n",
       "      <td>6874</td>\n",
       "      <td>6874</td>\n",
       "      <td>6874</td>\n",
       "      <td>6874</td>\n",
       "    </tr>\n",
       "    <tr>\n",
       "      <th>3</th>\n",
       "      <td>Andorra</td>\n",
       "      <td>0</td>\n",
       "      <td>0</td>\n",
       "      <td>0</td>\n",
       "      <td>0</td>\n",
       "      <td>0</td>\n",
       "      <td>0</td>\n",
       "      <td>0</td>\n",
       "      <td>0</td>\n",
       "      <td>0</td>\n",
       "      <td>...</td>\n",
       "      <td>153</td>\n",
       "      <td>153</td>\n",
       "      <td>153</td>\n",
       "      <td>153</td>\n",
       "      <td>153</td>\n",
       "      <td>153</td>\n",
       "      <td>153</td>\n",
       "      <td>153</td>\n",
       "      <td>153</td>\n",
       "      <td>153</td>\n",
       "    </tr>\n",
       "    <tr>\n",
       "      <th>4</th>\n",
       "      <td>Angola</td>\n",
       "      <td>0</td>\n",
       "      <td>0</td>\n",
       "      <td>0</td>\n",
       "      <td>0</td>\n",
       "      <td>0</td>\n",
       "      <td>0</td>\n",
       "      <td>0</td>\n",
       "      <td>0</td>\n",
       "      <td>0</td>\n",
       "      <td>...</td>\n",
       "      <td>1900</td>\n",
       "      <td>1900</td>\n",
       "      <td>1900</td>\n",
       "      <td>1900</td>\n",
       "      <td>1900</td>\n",
       "      <td>1900</td>\n",
       "      <td>1900</td>\n",
       "      <td>1900</td>\n",
       "      <td>1900</td>\n",
       "      <td>1900</td>\n",
       "    </tr>\n",
       "  </tbody>\n",
       "</table>\n",
       "<p>5 rows × 821 columns</p>\n",
       "</div>"
      ],
      "text/plain": [
       "  Country/Region  1/22/20  1/23/20  1/24/20  1/25/20  1/26/20  1/27/20  \\\n",
       "0    Afghanistan        0        0        0        0        0        0   \n",
       "1        Albania        0        0        0        0        0        0   \n",
       "2        Algeria        0        0        0        0        0        0   \n",
       "3        Andorra        0        0        0        0        0        0   \n",
       "4         Angola        0        0        0        0        0        0   \n",
       "\n",
       "   1/28/20  1/29/20  1/30/20  ...  4/11/22  4/12/22  4/13/22  4/14/22  \\\n",
       "0        0        0        0  ...     7675     7676     7676     7676   \n",
       "1        0        0        0  ...     3493     3494     3494     3495   \n",
       "2        0        0        0  ...     6874     6874     6874     6874   \n",
       "3        0        0        0  ...      153      153      153      153   \n",
       "4        0        0        0  ...     1900     1900     1900     1900   \n",
       "\n",
       "   4/15/22  4/16/22  4/17/22  4/18/22  4/19/22  4/20/22  \n",
       "0     7676     7676     7678     7679     7680     7680  \n",
       "1     3495     3496     3496     3496     3496     3496  \n",
       "2     6874     6874     6874     6874     6874     6874  \n",
       "3      153      153      153      153      153      153  \n",
       "4     1900     1900     1900     1900     1900     1900  \n",
       "\n",
       "[5 rows x 821 columns]"
      ]
     },
     "execution_count": 22,
     "metadata": {},
     "output_type": "execute_result"
    }
   ],
   "source": [
    "deaths_global_df.drop([\"Province/State\",\"Lat\",\"Long\"],inplace=True,axis=1)\n",
    "deaths_global_df.head()"
   ]
  },
  {
   "cell_type": "markdown",
   "id": "56f6cef2",
   "metadata": {},
   "source": [
    "Since we are getting the data country wise. Remove all the unwanted columns and clean the data. "
   ]
  },
  {
   "cell_type": "code",
   "execution_count": 23,
   "id": "4b63ebd8",
   "metadata": {},
   "outputs": [
    {
     "data": {
      "text/html": [
       "<div>\n",
       "<style scoped>\n",
       "    .dataframe tbody tr th:only-of-type {\n",
       "        vertical-align: middle;\n",
       "    }\n",
       "\n",
       "    .dataframe tbody tr th {\n",
       "        vertical-align: top;\n",
       "    }\n",
       "\n",
       "    .dataframe thead th {\n",
       "        text-align: right;\n",
       "    }\n",
       "</style>\n",
       "<table border=\"1\" class=\"dataframe\">\n",
       "  <thead>\n",
       "    <tr style=\"text-align: right;\">\n",
       "      <th></th>\n",
       "      <th>Country_Region</th>\n",
       "      <th>Last_Update</th>\n",
       "      <th>Confirmed</th>\n",
       "      <th>Deaths</th>\n",
       "    </tr>\n",
       "  </thead>\n",
       "  <tbody>\n",
       "    <tr>\n",
       "      <th>0</th>\n",
       "      <td>Afghanistan</td>\n",
       "      <td>2022-04-21 04:20:46</td>\n",
       "      <td>178574</td>\n",
       "      <td>7680</td>\n",
       "    </tr>\n",
       "    <tr>\n",
       "      <th>1</th>\n",
       "      <td>Albania</td>\n",
       "      <td>2022-04-21 04:20:46</td>\n",
       "      <td>274606</td>\n",
       "      <td>3496</td>\n",
       "    </tr>\n",
       "    <tr>\n",
       "      <th>2</th>\n",
       "      <td>Algeria</td>\n",
       "      <td>2022-04-21 04:20:46</td>\n",
       "      <td>265746</td>\n",
       "      <td>6874</td>\n",
       "    </tr>\n",
       "    <tr>\n",
       "      <th>3</th>\n",
       "      <td>Andorra</td>\n",
       "      <td>2022-04-21 04:20:46</td>\n",
       "      <td>41013</td>\n",
       "      <td>153</td>\n",
       "    </tr>\n",
       "    <tr>\n",
       "      <th>4</th>\n",
       "      <td>Angola</td>\n",
       "      <td>2022-04-21 04:20:46</td>\n",
       "      <td>99287</td>\n",
       "      <td>1900</td>\n",
       "    </tr>\n",
       "  </tbody>\n",
       "</table>\n",
       "</div>"
      ],
      "text/plain": [
       "  Country_Region          Last_Update  Confirmed  Deaths\n",
       "0    Afghanistan  2022-04-21 04:20:46     178574    7680\n",
       "1        Albania  2022-04-21 04:20:46     274606    3496\n",
       "2        Algeria  2022-04-21 04:20:46     265746    6874\n",
       "3        Andorra  2022-04-21 04:20:46      41013     153\n",
       "4         Angola  2022-04-21 04:20:46      99287    1900"
      ]
     },
     "execution_count": 23,
     "metadata": {},
     "output_type": "execute_result"
    }
   ],
   "source": [
    "daily_df.drop([\"FIPS\",\"Admin2\",\"Province_State\",\"Lat\",\"Long_\",\"Case_Fatality_Ratio\",\"Incident_Rate\",\"Combined_Key\",\"Recovered\",\"Active\"],inplace=True,axis=1)\n",
    "daily_df.head()"
   ]
  },
  {
   "cell_type": "markdown",
   "id": "ddf37457",
   "metadata": {},
   "source": [
    "Remove the columns that are not required to reduce the size of the data."
   ]
  },
  {
   "cell_type": "code",
   "execution_count": 24,
   "id": "44a86942",
   "metadata": {},
   "outputs": [
    {
     "data": {
      "text/html": [
       "<div>\n",
       "<style scoped>\n",
       "    .dataframe tbody tr th:only-of-type {\n",
       "        vertical-align: middle;\n",
       "    }\n",
       "\n",
       "    .dataframe tbody tr th {\n",
       "        vertical-align: top;\n",
       "    }\n",
       "\n",
       "    .dataframe thead th {\n",
       "        text-align: right;\n",
       "    }\n",
       "</style>\n",
       "<table border=\"1\" class=\"dataframe\">\n",
       "  <thead>\n",
       "    <tr style=\"text-align: right;\">\n",
       "      <th></th>\n",
       "      <th>Province_State</th>\n",
       "      <th>Country_Region</th>\n",
       "      <th>Date</th>\n",
       "      <th>People_Fully_Vaccinated</th>\n",
       "      <th>People_Partially_Vaccinated</th>\n",
       "    </tr>\n",
       "  </thead>\n",
       "  <tbody>\n",
       "    <tr>\n",
       "      <th>0</th>\n",
       "      <td>Alabama</td>\n",
       "      <td>US</td>\n",
       "      <td>2020-12-10</td>\n",
       "      <td>NaN</td>\n",
       "      <td>NaN</td>\n",
       "    </tr>\n",
       "    <tr>\n",
       "      <th>1</th>\n",
       "      <td>Alabama</td>\n",
       "      <td>US</td>\n",
       "      <td>2020-12-11</td>\n",
       "      <td>NaN</td>\n",
       "      <td>NaN</td>\n",
       "    </tr>\n",
       "    <tr>\n",
       "      <th>2</th>\n",
       "      <td>Alabama</td>\n",
       "      <td>US</td>\n",
       "      <td>2020-12-12</td>\n",
       "      <td>NaN</td>\n",
       "      <td>NaN</td>\n",
       "    </tr>\n",
       "    <tr>\n",
       "      <th>3</th>\n",
       "      <td>Alabama</td>\n",
       "      <td>US</td>\n",
       "      <td>2020-12-13</td>\n",
       "      <td>NaN</td>\n",
       "      <td>NaN</td>\n",
       "    </tr>\n",
       "    <tr>\n",
       "      <th>4</th>\n",
       "      <td>Alabama</td>\n",
       "      <td>US</td>\n",
       "      <td>2020-12-14</td>\n",
       "      <td>NaN</td>\n",
       "      <td>NaN</td>\n",
       "    </tr>\n",
       "  </tbody>\n",
       "</table>\n",
       "</div>"
      ],
      "text/plain": [
       "  Province_State Country_Region        Date  People_Fully_Vaccinated  \\\n",
       "0        Alabama             US  2020-12-10                      NaN   \n",
       "1        Alabama             US  2020-12-11                      NaN   \n",
       "2        Alabama             US  2020-12-12                      NaN   \n",
       "3        Alabama             US  2020-12-13                      NaN   \n",
       "4        Alabama             US  2020-12-14                      NaN   \n",
       "\n",
       "   People_Partially_Vaccinated  \n",
       "0                          NaN  \n",
       "1                          NaN  \n",
       "2                          NaN  \n",
       "3                          NaN  \n",
       "4                          NaN  "
      ]
     },
     "execution_count": 24,
     "metadata": {},
     "output_type": "execute_result"
    }
   ],
   "source": [
    "vaccine_usa_df.drop([\"FIPS\",\"Lat\",\"Long_\",\"Combined_Key\"],inplace=True,axis=1)\n",
    "vaccine_usa_df.head()"
   ]
  },
  {
   "cell_type": "markdown",
   "id": "4301cdde",
   "metadata": {},
   "source": [
    "Since we need the state wise data for the vaccinations. Remove all the unwanted columns and clean the data. "
   ]
  },
  {
   "cell_type": "code",
   "execution_count": 25,
   "id": "15a4120a",
   "metadata": {
    "scrolled": true
   },
   "outputs": [
    {
     "data": {
      "text/html": [
       "<div>\n",
       "<style scoped>\n",
       "    .dataframe tbody tr th:only-of-type {\n",
       "        vertical-align: middle;\n",
       "    }\n",
       "\n",
       "    .dataframe tbody tr th {\n",
       "        vertical-align: top;\n",
       "    }\n",
       "\n",
       "    .dataframe thead th {\n",
       "        text-align: right;\n",
       "    }\n",
       "</style>\n",
       "<table border=\"1\" class=\"dataframe\">\n",
       "  <thead>\n",
       "    <tr style=\"text-align: right;\">\n",
       "      <th></th>\n",
       "      <th>Country/Region</th>\n",
       "      <th>1/22/20</th>\n",
       "      <th>1/23/20</th>\n",
       "      <th>1/24/20</th>\n",
       "      <th>1/25/20</th>\n",
       "      <th>1/26/20</th>\n",
       "      <th>1/27/20</th>\n",
       "      <th>1/28/20</th>\n",
       "      <th>1/29/20</th>\n",
       "      <th>1/30/20</th>\n",
       "      <th>...</th>\n",
       "      <th>4/11/22</th>\n",
       "      <th>4/12/22</th>\n",
       "      <th>4/13/22</th>\n",
       "      <th>4/14/22</th>\n",
       "      <th>4/15/22</th>\n",
       "      <th>4/16/22</th>\n",
       "      <th>4/17/22</th>\n",
       "      <th>4/18/22</th>\n",
       "      <th>4/19/22</th>\n",
       "      <th>4/20/22</th>\n",
       "    </tr>\n",
       "  </thead>\n",
       "  <tbody>\n",
       "    <tr>\n",
       "      <th>0</th>\n",
       "      <td>Afghanistan</td>\n",
       "      <td>0</td>\n",
       "      <td>0</td>\n",
       "      <td>0</td>\n",
       "      <td>0</td>\n",
       "      <td>0</td>\n",
       "      <td>0</td>\n",
       "      <td>0</td>\n",
       "      <td>0</td>\n",
       "      <td>0</td>\n",
       "      <td>...</td>\n",
       "      <td>178141</td>\n",
       "      <td>178257</td>\n",
       "      <td>178295</td>\n",
       "      <td>178352</td>\n",
       "      <td>178373</td>\n",
       "      <td>178387</td>\n",
       "      <td>178418</td>\n",
       "      <td>178457</td>\n",
       "      <td>178513</td>\n",
       "      <td>178574</td>\n",
       "    </tr>\n",
       "    <tr>\n",
       "      <th>1</th>\n",
       "      <td>Albania</td>\n",
       "      <td>0</td>\n",
       "      <td>0</td>\n",
       "      <td>0</td>\n",
       "      <td>0</td>\n",
       "      <td>0</td>\n",
       "      <td>0</td>\n",
       "      <td>0</td>\n",
       "      <td>0</td>\n",
       "      <td>0</td>\n",
       "      <td>...</td>\n",
       "      <td>274219</td>\n",
       "      <td>274272</td>\n",
       "      <td>274320</td>\n",
       "      <td>274376</td>\n",
       "      <td>274429</td>\n",
       "      <td>274462</td>\n",
       "      <td>274504</td>\n",
       "      <td>274520</td>\n",
       "      <td>274535</td>\n",
       "      <td>274606</td>\n",
       "    </tr>\n",
       "    <tr>\n",
       "      <th>2</th>\n",
       "      <td>Algeria</td>\n",
       "      <td>0</td>\n",
       "      <td>0</td>\n",
       "      <td>0</td>\n",
       "      <td>0</td>\n",
       "      <td>0</td>\n",
       "      <td>0</td>\n",
       "      <td>0</td>\n",
       "      <td>0</td>\n",
       "      <td>0</td>\n",
       "      <td>...</td>\n",
       "      <td>265727</td>\n",
       "      <td>265730</td>\n",
       "      <td>265731</td>\n",
       "      <td>265733</td>\n",
       "      <td>265738</td>\n",
       "      <td>265739</td>\n",
       "      <td>265739</td>\n",
       "      <td>265741</td>\n",
       "      <td>265746</td>\n",
       "      <td>265746</td>\n",
       "    </tr>\n",
       "    <tr>\n",
       "      <th>3</th>\n",
       "      <td>Andorra</td>\n",
       "      <td>0</td>\n",
       "      <td>0</td>\n",
       "      <td>0</td>\n",
       "      <td>0</td>\n",
       "      <td>0</td>\n",
       "      <td>0</td>\n",
       "      <td>0</td>\n",
       "      <td>0</td>\n",
       "      <td>0</td>\n",
       "      <td>...</td>\n",
       "      <td>40328</td>\n",
       "      <td>40328</td>\n",
       "      <td>40709</td>\n",
       "      <td>40709</td>\n",
       "      <td>40709</td>\n",
       "      <td>40709</td>\n",
       "      <td>40709</td>\n",
       "      <td>40709</td>\n",
       "      <td>40709</td>\n",
       "      <td>41013</td>\n",
       "    </tr>\n",
       "    <tr>\n",
       "      <th>4</th>\n",
       "      <td>Angola</td>\n",
       "      <td>0</td>\n",
       "      <td>0</td>\n",
       "      <td>0</td>\n",
       "      <td>0</td>\n",
       "      <td>0</td>\n",
       "      <td>0</td>\n",
       "      <td>0</td>\n",
       "      <td>0</td>\n",
       "      <td>0</td>\n",
       "      <td>...</td>\n",
       "      <td>99194</td>\n",
       "      <td>99194</td>\n",
       "      <td>99194</td>\n",
       "      <td>99194</td>\n",
       "      <td>99194</td>\n",
       "      <td>99194</td>\n",
       "      <td>99194</td>\n",
       "      <td>99194</td>\n",
       "      <td>99287</td>\n",
       "      <td>99287</td>\n",
       "    </tr>\n",
       "  </tbody>\n",
       "</table>\n",
       "<p>5 rows × 821 columns</p>\n",
       "</div>"
      ],
      "text/plain": [
       "  Country/Region  1/22/20  1/23/20  1/24/20  1/25/20  1/26/20  1/27/20  \\\n",
       "0    Afghanistan        0        0        0        0        0        0   \n",
       "1        Albania        0        0        0        0        0        0   \n",
       "2        Algeria        0        0        0        0        0        0   \n",
       "3        Andorra        0        0        0        0        0        0   \n",
       "4         Angola        0        0        0        0        0        0   \n",
       "\n",
       "   1/28/20  1/29/20  1/30/20  ...  4/11/22  4/12/22  4/13/22  4/14/22  \\\n",
       "0        0        0        0  ...   178141   178257   178295   178352   \n",
       "1        0        0        0  ...   274219   274272   274320   274376   \n",
       "2        0        0        0  ...   265727   265730   265731   265733   \n",
       "3        0        0        0  ...    40328    40328    40709    40709   \n",
       "4        0        0        0  ...    99194    99194    99194    99194   \n",
       "\n",
       "   4/15/22  4/16/22  4/17/22  4/18/22  4/19/22  4/20/22  \n",
       "0   178373   178387   178418   178457   178513   178574  \n",
       "1   274429   274462   274504   274520   274535   274606  \n",
       "2   265738   265739   265739   265741   265746   265746  \n",
       "3    40709    40709    40709    40709    40709    41013  \n",
       "4    99194    99194    99194    99194    99287    99287  \n",
       "\n",
       "[5 rows x 821 columns]"
      ]
     },
     "execution_count": 25,
     "metadata": {},
     "output_type": "execute_result"
    }
   ],
   "source": [
    "confirmed_global_df.drop([\"Lat\",\"Long\",\"Province/State\"],inplace=True,axis=1)\n",
    "confirmed_global_df.head()"
   ]
  },
  {
   "cell_type": "markdown",
   "id": "163db890",
   "metadata": {},
   "source": [
    "Since we are getting the data country wise. Remove all the unwanted columns and clean the data. "
   ]
  },
  {
   "cell_type": "code",
   "execution_count": 26,
   "id": "1261cb37",
   "metadata": {},
   "outputs": [
    {
     "data": {
      "text/html": [
       "<div>\n",
       "<style scoped>\n",
       "    .dataframe tbody tr th:only-of-type {\n",
       "        vertical-align: middle;\n",
       "    }\n",
       "\n",
       "    .dataframe tbody tr th {\n",
       "        vertical-align: top;\n",
       "    }\n",
       "\n",
       "    .dataframe thead th {\n",
       "        text-align: right;\n",
       "    }\n",
       "</style>\n",
       "<table border=\"1\" class=\"dataframe\">\n",
       "  <thead>\n",
       "    <tr style=\"text-align: right;\">\n",
       "      <th></th>\n",
       "      <th>Province_State</th>\n",
       "      <th>Country_Region</th>\n",
       "      <th>Confirmed</th>\n",
       "      <th>Deaths</th>\n",
       "    </tr>\n",
       "  </thead>\n",
       "  <tbody>\n",
       "    <tr>\n",
       "      <th>0</th>\n",
       "      <td>Alabama</td>\n",
       "      <td>US</td>\n",
       "      <td>1298626</td>\n",
       "      <td>19524</td>\n",
       "    </tr>\n",
       "    <tr>\n",
       "      <th>1</th>\n",
       "      <td>Alaska</td>\n",
       "      <td>US</td>\n",
       "      <td>251506</td>\n",
       "      <td>1248</td>\n",
       "    </tr>\n",
       "    <tr>\n",
       "      <th>2</th>\n",
       "      <td>American Samoa</td>\n",
       "      <td>US</td>\n",
       "      <td>5663</td>\n",
       "      <td>21</td>\n",
       "    </tr>\n",
       "    <tr>\n",
       "      <th>3</th>\n",
       "      <td>Arizona</td>\n",
       "      <td>US</td>\n",
       "      <td>2019174</td>\n",
       "      <td>29852</td>\n",
       "    </tr>\n",
       "    <tr>\n",
       "      <th>4</th>\n",
       "      <td>Arkansas</td>\n",
       "      <td>US</td>\n",
       "      <td>834553</td>\n",
       "      <td>11360</td>\n",
       "    </tr>\n",
       "  </tbody>\n",
       "</table>\n",
       "</div>"
      ],
      "text/plain": [
       "   Province_State Country_Region  Confirmed  Deaths\n",
       "0         Alabama             US    1298626   19524\n",
       "1          Alaska             US     251506    1248\n",
       "2  American Samoa             US       5663      21\n",
       "3         Arizona             US    2019174   29852\n",
       "4        Arkansas             US     834553   11360"
      ]
     },
     "execution_count": 26,
     "metadata": {},
     "output_type": "execute_result"
    }
   ],
   "source": [
    "deaths_usa_df.drop([\"Lat\",\"Long_\",\"Last_Update\",\"FIPS\",\"Recovered\",\"Active\",\"FIPS\",\"Incident_Rate\",\"Total_Test_Results\",\"People_Hospitalized\",\"Case_Fatality_Ratio\",\"UID\",\"ISO3\",\"Testing_Rate\",\"Hospitalization_Rate\"],inplace=True,axis=1)\n",
    "deaths_usa_df.head()"
   ]
  },
  {
   "cell_type": "markdown",
   "id": "33c8526e",
   "metadata": {},
   "source": [
    "Since we are getting the data state wise. Remove all the unwanted columns and clean the data to reduce the data size."
   ]
  },
  {
   "cell_type": "markdown",
   "id": "b97b6de7",
   "metadata": {},
   "source": [
    "# Data Processing "
   ]
  },
  {
   "cell_type": "code",
   "execution_count": 27,
   "id": "02292dd8",
   "metadata": {},
   "outputs": [],
   "source": [
    "confirmed_global_df = confirmed_global_df.groupby(by=\"Country/Region\").aggregate(np.sum).T\n",
    "confirmed_global_df.index.name ='Date'\n",
    "confirmed_global_df = confirmed_global_df.reset_index()\n",
    "confirmed_global_df_m = confirmed_global_df.melt(id_vars='Date').copy()\n",
    "confirmed_global_df_m.rename(columns={'value':'Confirmed'},inplace=True)\n",
    "confirmed_global_df_m['Date'] = pd.to_datetime(confirmed_global_df_m['Date'])"
   ]
  },
  {
   "cell_type": "markdown",
   "id": "cb52afd6",
   "metadata": {},
   "source": [
    "We would need the dates as row , hence group by country and total the confirmed cases. Transpose the dataframe to get one record per country for each date.Convert the date from string to datetime format to apply the filter later on."
   ]
  },
  {
   "cell_type": "code",
   "execution_count": 28,
   "id": "572b7385",
   "metadata": {},
   "outputs": [
    {
     "data": {
      "text/plain": [
       "Timestamp('2022-04-20 00:00:00')"
      ]
     },
     "execution_count": 28,
     "metadata": {},
     "output_type": "execute_result"
    }
   ],
   "source": [
    "conf_max_date = confirmed_global_df_m['Date'] .max()\n",
    "conf_max_date"
   ]
  },
  {
   "cell_type": "markdown",
   "id": "3721de67",
   "metadata": {},
   "source": [
    "Get the max date to get the data for the latest date."
   ]
  },
  {
   "cell_type": "code",
   "execution_count": 29,
   "id": "796065d6",
   "metadata": {},
   "outputs": [
    {
     "data": {
      "text/html": [
       "<div>\n",
       "<style scoped>\n",
       "    .dataframe tbody tr th:only-of-type {\n",
       "        vertical-align: middle;\n",
       "    }\n",
       "\n",
       "    .dataframe tbody tr th {\n",
       "        vertical-align: top;\n",
       "    }\n",
       "\n",
       "    .dataframe thead th {\n",
       "        text-align: right;\n",
       "    }\n",
       "</style>\n",
       "<table border=\"1\" class=\"dataframe\">\n",
       "  <thead>\n",
       "    <tr style=\"text-align: right;\">\n",
       "      <th></th>\n",
       "      <th>Province_State</th>\n",
       "      <th>Country_Region</th>\n",
       "      <th>Date</th>\n",
       "      <th>People_Fully_Vaccinated</th>\n",
       "      <th>People_Partially_Vaccinated</th>\n",
       "    </tr>\n",
       "  </thead>\n",
       "  <tbody>\n",
       "    <tr>\n",
       "      <th>388</th>\n",
       "      <td>Alabama</td>\n",
       "      <td>US</td>\n",
       "      <td>2022-01-02</td>\n",
       "      <td>2335344.0</td>\n",
       "      <td>533420.0</td>\n",
       "    </tr>\n",
       "    <tr>\n",
       "      <th>389</th>\n",
       "      <td>Alabama</td>\n",
       "      <td>US</td>\n",
       "      <td>2022-01-03</td>\n",
       "      <td>2335344.0</td>\n",
       "      <td>533420.0</td>\n",
       "    </tr>\n",
       "    <tr>\n",
       "      <th>390</th>\n",
       "      <td>Alabama</td>\n",
       "      <td>US</td>\n",
       "      <td>2022-01-04</td>\n",
       "      <td>2345599.0</td>\n",
       "      <td>539220.0</td>\n",
       "    </tr>\n",
       "    <tr>\n",
       "      <th>391</th>\n",
       "      <td>Alabama</td>\n",
       "      <td>US</td>\n",
       "      <td>2022-01-05</td>\n",
       "      <td>2346404.0</td>\n",
       "      <td>539666.0</td>\n",
       "    </tr>\n",
       "    <tr>\n",
       "      <th>392</th>\n",
       "      <td>Alabama</td>\n",
       "      <td>US</td>\n",
       "      <td>2022-01-06</td>\n",
       "      <td>2349085.0</td>\n",
       "      <td>541161.0</td>\n",
       "    </tr>\n",
       "  </tbody>\n",
       "</table>\n",
       "</div>"
      ],
      "text/plain": [
       "    Province_State Country_Region       Date  People_Fully_Vaccinated  \\\n",
       "388        Alabama             US 2022-01-02                2335344.0   \n",
       "389        Alabama             US 2022-01-03                2335344.0   \n",
       "390        Alabama             US 2022-01-04                2345599.0   \n",
       "391        Alabama             US 2022-01-05                2346404.0   \n",
       "392        Alabama             US 2022-01-06                2349085.0   \n",
       "\n",
       "     People_Partially_Vaccinated  \n",
       "388                     533420.0  \n",
       "389                     533420.0  \n",
       "390                     539220.0  \n",
       "391                     539666.0  \n",
       "392                     541161.0  "
      ]
     },
     "execution_count": 29,
     "metadata": {},
     "output_type": "execute_result"
    }
   ],
   "source": [
    "vaccine_usa_df['Date'] = pd.to_datetime(vaccine_usa_df['Date'], format='%Y-%m-%d')\n",
    "vaccine_usa_df = vaccine_usa_df[vaccine_usa_df['Date'] > dt.datetime(2022, 1, 1)]\n",
    "vaccine_usa_df.head()"
   ]
  },
  {
   "cell_type": "markdown",
   "id": "47198513",
   "metadata": {},
   "source": [
    "Convert the string to datetime format and get the data only belonging to the year 2022."
   ]
  },
  {
   "cell_type": "code",
   "execution_count": 30,
   "id": "fe273681",
   "metadata": {},
   "outputs": [
    {
     "data": {
      "text/html": [
       "<div>\n",
       "<style scoped>\n",
       "    .dataframe tbody tr th:only-of-type {\n",
       "        vertical-align: middle;\n",
       "    }\n",
       "\n",
       "    .dataframe tbody tr th {\n",
       "        vertical-align: top;\n",
       "    }\n",
       "\n",
       "    .dataframe thead th {\n",
       "        text-align: right;\n",
       "    }\n",
       "</style>\n",
       "<table border=\"1\" class=\"dataframe\">\n",
       "  <thead>\n",
       "    <tr style=\"text-align: right;\">\n",
       "      <th></th>\n",
       "      <th>148</th>\n",
       "    </tr>\n",
       "  </thead>\n",
       "  <tbody>\n",
       "    <tr>\n",
       "      <th>1/25/20</th>\n",
       "      <td>0</td>\n",
       "    </tr>\n",
       "    <tr>\n",
       "      <th>1/26/20</th>\n",
       "      <td>0</td>\n",
       "    </tr>\n",
       "    <tr>\n",
       "      <th>1/27/20</th>\n",
       "      <td>0</td>\n",
       "    </tr>\n",
       "    <tr>\n",
       "      <th>1/28/20</th>\n",
       "      <td>0</td>\n",
       "    </tr>\n",
       "    <tr>\n",
       "      <th>1/29/20</th>\n",
       "      <td>0</td>\n",
       "    </tr>\n",
       "    <tr>\n",
       "      <th>...</th>\n",
       "      <td>...</td>\n",
       "    </tr>\n",
       "    <tr>\n",
       "      <th>4/16/22</th>\n",
       "      <td>521751</td>\n",
       "    </tr>\n",
       "    <tr>\n",
       "      <th>4/17/22</th>\n",
       "      <td>521965</td>\n",
       "    </tr>\n",
       "    <tr>\n",
       "      <th>4/18/22</th>\n",
       "      <td>521966</td>\n",
       "    </tr>\n",
       "    <tr>\n",
       "      <th>4/19/22</th>\n",
       "      <td>522006</td>\n",
       "    </tr>\n",
       "    <tr>\n",
       "      <th>4/20/22</th>\n",
       "      <td>522062</td>\n",
       "    </tr>\n",
       "  </tbody>\n",
       "</table>\n",
       "<p>817 rows × 1 columns</p>\n",
       "</div>"
      ],
      "text/plain": [
       "            148\n",
       "1/25/20       0\n",
       "1/26/20       0\n",
       "1/27/20       0\n",
       "1/28/20       0\n",
       "1/29/20       0\n",
       "...         ...\n",
       "4/16/22  521751\n",
       "4/17/22  521965\n",
       "4/18/22  521966\n",
       "4/19/22  522006\n",
       "4/20/22  522062\n",
       "\n",
       "[817 rows x 1 columns]"
      ]
     },
     "execution_count": 30,
     "metadata": {},
     "output_type": "execute_result"
    }
   ],
   "source": [
    "deaths_global_df_india = deaths_global_df[deaths_global_df[\"Country/Region\"] =='India']\n",
    "deaths_global_df_india.T[4:]"
   ]
  },
  {
   "cell_type": "markdown",
   "id": "8a233019",
   "metadata": {},
   "source": [
    "Get the COVID-19 related deaths of India and transpoe so that the dates becomes rows."
   ]
  },
  {
   "cell_type": "code",
   "execution_count": 31,
   "id": "1d176e5b",
   "metadata": {},
   "outputs": [],
   "source": [
    "deaths_global_df_india=deaths_global_df_india.T[4:].diff()"
   ]
  },
  {
   "cell_type": "markdown",
   "id": "9f413d00",
   "metadata": {},
   "source": [
    "Calculate the difference to get the difference between the 2 rows. Which will tell us if the cases increased,decreased or remained same."
   ]
  },
  {
   "cell_type": "code",
   "execution_count": 32,
   "id": "8f74a7a8",
   "metadata": {},
   "outputs": [
    {
     "data": {
      "text/html": [
       "<div>\n",
       "<style scoped>\n",
       "    .dataframe tbody tr th:only-of-type {\n",
       "        vertical-align: middle;\n",
       "    }\n",
       "\n",
       "    .dataframe tbody tr th {\n",
       "        vertical-align: top;\n",
       "    }\n",
       "\n",
       "    .dataframe thead th {\n",
       "        text-align: right;\n",
       "    }\n",
       "</style>\n",
       "<table border=\"1\" class=\"dataframe\">\n",
       "  <thead>\n",
       "    <tr style=\"text-align: right;\">\n",
       "      <th></th>\n",
       "      <th>Province_State</th>\n",
       "      <th>Country_Region</th>\n",
       "      <th>Confirmed</th>\n",
       "      <th>Deaths</th>\n",
       "      <th>Percentage_of_deaths</th>\n",
       "    </tr>\n",
       "  </thead>\n",
       "  <tbody>\n",
       "    <tr>\n",
       "      <th>0</th>\n",
       "      <td>Alabama</td>\n",
       "      <td>US</td>\n",
       "      <td>1298626</td>\n",
       "      <td>19524</td>\n",
       "      <td>1.503435</td>\n",
       "    </tr>\n",
       "    <tr>\n",
       "      <th>1</th>\n",
       "      <td>Alaska</td>\n",
       "      <td>US</td>\n",
       "      <td>251506</td>\n",
       "      <td>1248</td>\n",
       "      <td>0.496211</td>\n",
       "    </tr>\n",
       "    <tr>\n",
       "      <th>2</th>\n",
       "      <td>American Samoa</td>\n",
       "      <td>US</td>\n",
       "      <td>5663</td>\n",
       "      <td>21</td>\n",
       "      <td>0.370828</td>\n",
       "    </tr>\n",
       "    <tr>\n",
       "      <th>3</th>\n",
       "      <td>Arizona</td>\n",
       "      <td>US</td>\n",
       "      <td>2019174</td>\n",
       "      <td>29852</td>\n",
       "      <td>1.478426</td>\n",
       "    </tr>\n",
       "    <tr>\n",
       "      <th>4</th>\n",
       "      <td>Arkansas</td>\n",
       "      <td>US</td>\n",
       "      <td>834553</td>\n",
       "      <td>11360</td>\n",
       "      <td>1.361208</td>\n",
       "    </tr>\n",
       "  </tbody>\n",
       "</table>\n",
       "</div>"
      ],
      "text/plain": [
       "   Province_State Country_Region  Confirmed  Deaths  Percentage_of_deaths\n",
       "0         Alabama             US    1298626   19524              1.503435\n",
       "1          Alaska             US     251506    1248              0.496211\n",
       "2  American Samoa             US       5663      21              0.370828\n",
       "3         Arizona             US    2019174   29852              1.478426\n",
       "4        Arkansas             US     834553   11360              1.361208"
      ]
     },
     "execution_count": 32,
     "metadata": {},
     "output_type": "execute_result"
    }
   ],
   "source": [
    "deaths_usa_df['Percentage_of_deaths'] = (deaths_usa_df['Deaths']/deaths_usa_df['Confirmed'])*100\n",
    "deaths_usa_df.head()"
   ]
  },
  {
   "cell_type": "markdown",
   "id": "b328977b",
   "metadata": {},
   "source": [
    "Add a new column to get the percentage of deaths in the confirmed cases."
   ]
  },
  {
   "cell_type": "markdown",
   "id": "5f8eba29",
   "metadata": {},
   "source": [
    "# Data Visualizations"
   ]
  },
  {
   "cell_type": "markdown",
   "id": "f6d93c74",
   "metadata": {},
   "source": [
    "<B>RQ1. What is the trend of the COVID-19 related deaths in India since 2020 ?</B>"
   ]
  },
  {
   "cell_type": "code",
   "execution_count": 33,
   "id": "58919a6e",
   "metadata": {},
   "outputs": [
    {
     "data": {
      "image/png": "[encoded data removed]",
      "text/plain": [
       "<Figure size 1440x648 with 1 Axes>"
      ]
     },
     "metadata": {
      "needs_background": "light"
     },
     "output_type": "display_data"
    }
   ],
   "source": [
    "plot_death_india = deaths_global_df_india[40:].plot(figsize = (20,9))"
   ]
  },
  {
   "cell_type": "markdown",
   "id": "a93873dd",
   "metadata": {},
   "source": [
    "Based on trends the COVID related deaths peaked during June -July months in 2020 and 2021.Based on the past years during the months of April,May the number of deaths had started increasing. For 2022 we have not seen a increase yet, so it is unsure whether the cases will peak during the same time, based on the growth trend above we can estimate that the cases might peak during the end of the year September-December."
   ]
  },
  {
   "cell_type": "markdown",
   "id": "edc131ee",
   "metadata": {},
   "source": [
    "<B>RQ2. What are the Top 10 countries with the highest confirmed COVID cases for today?(04/20/2022)</B>"
   ]
  },
  {
   "cell_type": "code",
   "execution_count": 15,
   "id": "80656071",
   "metadata": {},
   "outputs": [
    {
     "data": {
      "image/png": "[encoded data removed]",
      "text/plain": [
       "<Figure size 936x648 with 1 Axes>"
      ]
     },
     "metadata": {
      "needs_background": "light"
     },
     "output_type": "display_data"
    }
   ],
   "source": [
    "import numpy as np\n",
    "import matplotlib.pyplot as plt\n",
    "import seaborn as sns\n",
    "import math\n",
    "import random\n",
    "#Show the Top 10 countries having the highest confirmed cases for today.\n",
    "top_10_daily = daily_df.groupby(by='Country_Region').max()[['Confirmed']].sort_values(['Confirmed'],ascending=False).reset_index()\n",
    "top_10_daily.iloc[:10]\n",
    "fig = plt.figure(figsize=(13,9))\n",
    "plt.title(\" Top 10 countries with the Highest confirmed COVID cases across the world for \" + day_today)\n",
    "ax = sns.barplot(data = top_10_daily.iloc[:10], y='Confirmed',x='Country_Region',linewidth=3)\n",
    "ax.yaxis.get_major_formatter().set_scientific(False)\n",
    "plt.xlabel('Countries')\n",
    "plt.ylabel('Confirmed Cases')\n",
    "plt.show()"
   ]
  },
  {
   "cell_type": "markdown",
   "id": "9ce45735",
   "metadata": {},
   "source": [
    " France,United Kingdom,South Korea,Turkey and Vietnam are the top 5 countries with the Highest number of confirmed COVID-19 related cases.Asia and Europe have the same no of countries in the Top 10."
   ]
  },
  {
   "cell_type": "markdown",
   "id": "5295f05f",
   "metadata": {},
   "source": [
    "<B>RQ3. What are the Top 10 countries with the highest no of deaths due to COVID for today ?(04/20/2022)</B>"
   ]
  },
  {
   "cell_type": "code",
   "execution_count": 16,
   "id": "2521f5fc",
   "metadata": {},
   "outputs": [
    {
     "data": {
      "image/png": "[encoded data removed]",
      "text/plain": [
       "<Figure size 936x648 with 1 Axes>"
      ]
     },
     "metadata": {
      "needs_background": "light"
     },
     "output_type": "display_data"
    }
   ],
   "source": [
    "top_10_deaths = daily_df.groupby(by='Country_Region').max()[['Deaths']].sort_values(['Deaths'],ascending=False).reset_index()\n",
    "fig_death = plt.figure(figsize=(13,9))\n",
    "plt.title(\" Top 10 countries with the Highest COVID related deaths across the world for \" + day_today)\n",
    "ax = sns.barplot(data = top_10_deaths.iloc[:10], y='Deaths',x='Country_Region',linewidth=3,palette='hls')\n",
    "plt.xlabel('Countries')\n",
    "plt.show()"
   ]
  },
  {
   "cell_type": "markdown",
   "id": "c1dfc1e7",
   "metadata": {},
   "source": [
    "Based on the graph above Europe,Asia,South America these continents have highest COVID-19 related deaths.With Brazil having the highest deaths."
   ]
  },
  {
   "cell_type": "markdown",
   "id": "451f6977",
   "metadata": {},
   "source": [
    "<b>RQ4. What is the growth trend for the top 5 vaccinated states in the USA for 2022? And do the states with the highest vaccinations have lower deaths ?</b>"
   ]
  },
  {
   "cell_type": "code",
   "execution_count": 17,
   "id": "72c9aaf6",
   "metadata": {
    "scrolled": true
   },
   "outputs": [
    {
     "data": {
      "image/png": "[encoded data removed]",
      "text/plain": [
       "<Figure size 1440x648 with 1 Axes>"
      ]
     },
     "metadata": {
      "needs_background": "light"
     },
     "output_type": "display_data"
    }
   ],
   "source": [
    "#Growth of the vaccinations\n",
    "fig_vaccine = plt.figure(figsize=(20,9))\n",
    "top_5_vaccinations = vaccine_usa_df.groupby(by='Province_State').max()[['People_Fully_Vaccinated','Date']].sort_values(['People_Fully_Vaccinated','Date'],ascending=False).reset_index()\n",
    "#top_5_vaccinations\n",
    "list_state = list(top_5_vaccinations.head(5)['Province_State'])\n",
    "ax = sns.lineplot(data=vaccine_usa_df[vaccine_usa_df['Province_State'].isin(list_state)],x='Date',y='People_Fully_Vaccinated',hue='Province_State')\n",
    "ax.set_title(\"Top 5 Vaccinated States in the USA -Growth trend in 2022\",size =14)\n",
    "ax.yaxis.get_major_formatter().set_scientific(False)\n",
    "plt.ylabel('Fully Vaccinated')\n",
    "plt.xlabel('Date')\n",
    "plt.show()"
   ]
  },
  {
   "cell_type": "markdown",
   "id": "0a0b29a2",
   "metadata": {},
   "source": [
    "The top 5 states with the highest vaccinations are California,Florida,New York,Pennsylvania and Texas.The vaccination growth has been aalmost uniform for this year with only California showing a slight decrease in the number of vaccinations after 15thFebruary 2022."
   ]
  },
  {
   "cell_type": "code",
   "execution_count": 18,
   "id": "e49b07c9",
   "metadata": {},
   "outputs": [
    {
     "data": {
      "image/png": "[encoded data removed]",
      "text/plain": [
       "<Figure size 1080x720 with 1 Axes>"
      ]
     },
     "metadata": {},
     "output_type": "display_data"
    }
   ],
   "source": [
    "deaths_usa_df_top = deaths_usa_df[deaths_usa_df['Province_State'].isin(list_state)]\n",
    "deaths_usa_df_top5 = deaths_usa_df.groupby(by='Province_State').max()[['Percentage_of_deaths']].sort_values(['Percentage_of_deaths'],ascending=False).reset_index()\n",
    "deaths_usa_df_top5 = deaths_usa_df_top5.head(5)\n",
    "frames = [deaths_usa_df_top, deaths_usa_df_top5]\n",
    "result = pd.concat(frames)\n",
    "fig_death_per, ax = plt.subplots(figsize=(15,10))\n",
    "ax.pie(result['Percentage_of_deaths'], labels = result['Province_State'], autopct='%.0f%%')\n",
    "ax.set_title('Top 5 vaccinated states & top 5 states with the highest death percentage comparision')\n",
    "plt.show()"
   ]
  },
  {
   "cell_type": "markdown",
   "id": "ec6e8540",
   "metadata": {},
   "source": [
    "Based on the above pie chart comparison we can see that the Top 5 states with the highest deaths with respect to the confirmed cases are Grand Princess,Pennsylvania,Mississippi,Oklahoma,Nevada. Out of this only Pennsylvania is present in the Top 5 vaccinated states.We can infer that Vaccination thus reduces the number of deaths and 4 of the states with the highest vaccination numbers do not have a high death percentage."
   ]
  },
  {
   "cell_type": "markdown",
   "id": "4fc3faae",
   "metadata": {},
   "source": [
    "<B>RQ5. Top 20 countries with to overall highest number of covid cases from 2020 ?</B>"
   ]
  },
  {
   "cell_type": "code",
   "execution_count": 19,
   "id": "6db51fbd",
   "metadata": {},
   "outputs": [
    {
     "data": {
      "image/png": "[encoded data removed]",
      "text/plain": [
       "<Figure size 1440x1080 with 1 Axes>"
      ]
     },
     "metadata": {
      "needs_background": "light"
     },
     "output_type": "display_data"
    }
   ],
   "source": [
    "total_conf_df = confirmed_global_df_m[confirmed_global_df_m['Date'] == conf_max_date ]\n",
    "fig_conf_global = plt.figure(figsize=(20,15))\n",
    "ax = sns.barplot(data = total_conf_df.sort_values('Confirmed',ascending=False).head(20), y='Confirmed',x='Country/Region',linewidth=4,palette='Paired')\n",
    "ax.set_title(\"Top 20 Countries with the highest confirmed COVID19 cases from 2020 as of \" + str(conf_max_date),size =14)\n",
    "plt.show()"
   ]
  },
  {
   "cell_type": "markdown",
   "id": "ccd30556",
   "metadata": {},
   "source": [
    "From the bar graph we can see top 20 countries with the highest number of COVID cases from 2020. With USA,India,Brazil,France,Germany in the Top 5 . Many of these countries are even present in the Top 10 countries with highest number of COVID cases for today which is displayed in RQ.2."
   ]
  },
  {
   "cell_type": "markdown",
   "id": "b2fb5ba1",
   "metadata": {},
   "source": [
    "# Summary"
   ]
  },
  {
   "cell_type": "markdown",
   "id": "9f168c7f",
   "metadata": {},
   "source": [
    "In this project I have used the data visualizations libraries provided by python. These libraries provide numerous features that have been utilized to picturise the data and answer the research questions mentioned above. We are hopefully at the weakening of the COVID-19 pandemic, the above visualizations would help in better conveying the information across."
   ]
  },
  {
   "cell_type": "markdown",
   "id": "0bf9a259",
   "metadata": {},
   "source": [
    "# Conclusion"
   ]
  },
  {
   "cell_type": "markdown",
   "id": "c47ec143",
   "metadata": {},
   "source": [
    "Based on the data visualizations libraries used matplotlib and seaborn are the ones with extensive features. Plotly and folium must be used if the requirement is for interactive graphs/visualizations. As a part of the project were we able to visualize the death trend in India, Top 10 global countries with the highest confirmed COVID-19 cases, Top 10 global countries with the highest deaths related to COVID, find  out if the highest vaccinated states in the USA have low death rates. Through visualization we can conclude that the states with the highest vaccination rates have lower death rates. All of this was possible with the help of the powerful visualization tools by python. Hence data visualization tools help to tell stories by curating the data into a form which much more visually appealing and easier to understand."
   ]
  },
  {
   "cell_type": "markdown",
   "id": "cc5dfee3",
   "metadata": {},
   "source": [
    "# References"
   ]
  },
  {
   "cell_type": "markdown",
   "id": "221a6864",
   "metadata": {},
   "source": [
    "1. https://covid19.healthdata.org/india?view=infections-testing&tab=trend&test=infections\n",
    "2. https://www.un.org/development/desa/dspd/everyone-included-covid-19.html\n",
    "\n",
    "3. The data for this project is from John-Hopkins repository - https://coronavirus.jhu.edu/about/how-to-use-our-data\n",
    "4. https://www.bls.gov/cps/effects-of-the-coronavirus-covid-19-pandemic.htm\n",
    "5. https://www.kff.org/coronavirus-covid-19/issue-brief/the-implications-of-covid-19-for-mental-health-and-substance-use/\n",
    "6. https://www.analyticsvidhya.com/blog/2021/02/an-intuitive-guide-to-visualization-in-python/\n",
    "7. https://realpython.com/python-matplotlib-guide/\n",
    "8. https://jakevdp.github.io/PythonDataScienceHandbook/04.14-visualization-with-seaborn.html\n"
   ]
  },
  {
   "cell_type": "code",
   "execution_count": null,
   "id": "945ca9ba",
   "metadata": {},
   "outputs": [],
   "source": []
  },
  {
   "cell_type": "code",
   "execution_count": null,
   "id": "0d246847",
   "metadata": {},
   "outputs": [],
   "source": []
  },
  {
   "cell_type": "code",
   "execution_count": null,
   "id": "7b8219b5",
   "metadata": {},
   "outputs": [],
   "source": []
  }
 ],
 "metadata": {
  "kernelspec": {
   "display_name": "Python 3 (ipykernel)",
   "language": "python",
   "name": "python3"
  },
  "language_info": {
   "codemirror_mode": {
    "name": "ipython",
    "version": 3
   },
   "file_extension": ".py",
   "mimetype": "text/x-python",
   "name": "python",
   "nbconvert_exporter": "python",
   "pygments_lexer": "ipython3",
   "version": "3.9.7"
  }
 },
 "nbformat": 4,
 "nbformat_minor": 5
}
